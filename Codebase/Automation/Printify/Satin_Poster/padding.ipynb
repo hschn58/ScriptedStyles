{
 "cells": [
  {
   "cell_type": "code",
   "execution_count": 1,
   "metadata": {},
   "outputs": [
    {
     "ename": "NameError",
     "evalue": "name 'csv_path' is not defined",
     "output_type": "error",
     "traceback": [
      "\u001b[0;31m---------------------------------------------------------------------------\u001b[0m",
      "\u001b[0;31mNameError\u001b[0m                                 Traceback (most recent call last)",
      "Cell \u001b[0;32mIn[1], line 50\u001b[0m\n\u001b[1;32m     44\u001b[0m     \u001b[38;5;28;01mreturn\u001b[39;00m output_path\n\u001b[1;32m     46\u001b[0m \u001b[38;5;66;03m# ----------------------\u001b[39;00m\n\u001b[1;32m     47\u001b[0m \u001b[38;5;66;03m# Read product information and check for edge detection flag.\u001b[39;00m\n\u001b[1;32m     48\u001b[0m \u001b[38;5;66;03m# ----------------------\u001b[39;00m\n\u001b[1;32m     49\u001b[0m \u001b[38;5;66;03m# (Assuming csv_path is defined elsewhere.)\u001b[39;00m\n\u001b[0;32m---> 50\u001b[0m prod_info_df \u001b[38;5;241m=\u001b[39m pd\u001b[38;5;241m.\u001b[39mread_csv(\u001b[43mcsv_path\u001b[49m)\n\u001b[1;32m     52\u001b[0m \u001b[38;5;66;03m# Check if the CSV has an \"edge_detection\" field and if it’s set to true.\u001b[39;00m\n\u001b[1;32m     53\u001b[0m \u001b[38;5;28;01mif\u001b[39;00m \u001b[38;5;124m'\u001b[39m\u001b[38;5;124medge_detection\u001b[39m\u001b[38;5;124m'\u001b[39m \u001b[38;5;129;01min\u001b[39;00m prod_info_df\u001b[38;5;241m.\u001b[39mcolumns:\n",
      "\u001b[0;31mNameError\u001b[0m: name 'csv_path' is not defined"
     ]
    }
   ],
   "source": [
    "\n",
    "#THIS IS NOT PRACTICAL. JUST ADD A FIELD FOR \"SQUARE\" or NOT. \n",
    "import os\n",
    "import time\n",
    "import base64\n",
    "import json\n",
    "import math\n",
    "import argparse\n",
    "import requests\n",
    "import pandas as pd\n",
    "import numpy as np\n",
    "import matplotlib\n",
    "from matplotlib.colors import LogNorm, PowerNorm\n",
    "import matplotlib.colors as mcolors\n",
    "# Other imports used later...\n",
    "from ScriptedStyles.Automation.Mockup_Generation.generate_mockups import product_mockups\n",
    "\n",
    "# Use non-interactive Agg backend for saving images.\n",
    "matplotlib.use('Agg')\n",
    "\n",
    "# ----------------------\n",
    "# NEW: Function to pad an image to preserve art edges.\n",
    "# ----------------------\n",
    "from PIL import Image, ImageOps\n",
    "\n",
    "def pad_art_image(image_path, output_path, fill_color=\"#FFFFFF\", padding_factor=0.2):\n",
    "    \"\"\"\n",
    "    Opens an image, adds padding around it, and saves the result.\n",
    "    \n",
    "    Parameters:\n",
    "      image_path     : Path to the original image.\n",
    "      output_path    : Where to save the padded image.\n",
    "      fill_color     : The color to use for padding (default white).\n",
    "      padding_factor : The fraction of the image width/height to add as padding on each side.\n",
    "    Returns:\n",
    "      The output_path (padded image saved there).\n",
    "    \"\"\"\n",
    "    im = Image.open(image_path)\n",
    "    width, height = im.size\n",
    "    # Compute the amount of padding for each side.\n",
    "    pad_w = int(width * padding_factor)\n",
    "    pad_h = int(height * padding_factor)\n",
    "    # Expand the canvas using the fill_color.\n",
    "    new_im = ImageOps.expand(im, border=(pad_w, pad_h, pad_w, pad_h), fill=fill_color)\n",
    "    new_im.save(output_path)\n",
    "    return output_path\n",
    "\n",
    "# ----------------------\n",
    "# Read product information and check for edge detection flag.\n",
    "# ----------------------\n",
    "# (Assuming csv_path is defined elsewhere.)\n",
    "prod_info_df = pd.read_csv(csv_path)\n",
    "\n",
    "# Check if the CSV has an \"edge_detection\" field and if it’s set to true.\n",
    "if 'edge_detection' in prod_info_df.columns:\n",
    "    edge_detect_flag = str(prod_info_df['edge_detection'].iloc[0]).strip().lower() in ['true', '1', 'yes']\n",
    "else:\n",
    "    edge_detect_flag = False\n",
    "\n",
    "\n",
    "edge_detect_flag =True\n",
    "# If edge detection is enabled, process the image to pad it.\n",
    "if edge_detect_flag:\n",
    "    original_path = prod_info_df['local_path'].iloc[0]\n",
    "    # Create a new file name for the padded image (for example, prefix with \"padded_\")\n",
    "    padded_path = os.path.join(os.path.dirname(original_path), \"padded_\" + os.path.basename(original_path))\n",
    "    # Adjust the padding_factor if needed.\n",
    "    padded_path = pad_art_image(original_path, padded_path, fill_color=\"#FFFFFF\", padding_factor=0.2)\n",
    "    # Update the CSV data (and the local file path) to point to the padded image.\n",
    "    prod_info_df.loc[0, 'local_path'] = padded_path\n",
    "    print(\"Edge detection enabled: Image padded to preserve art edges.\")"
   ]
  },
  {
   "cell_type": "code",
   "execution_count": null,
   "metadata": {},
   "outputs": [],
   "source": []
  },
  {
   "cell_type": "code",
   "execution_count": null,
   "metadata": {},
   "outputs": [],
   "source": []
  }
 ],
 "metadata": {
  "kernelspec": {
   "display_name": "Python 3",
   "language": "python",
   "name": "python3"
  },
  "language_info": {
   "codemirror_mode": {
    "name": "ipython",
    "version": 3
   },
   "file_extension": ".py",
   "mimetype": "text/x-python",
   "name": "python",
   "nbconvert_exporter": "python",
   "pygments_lexer": "ipython3",
   "version": "3.12.9"
  }
 },
 "nbformat": 4,
 "nbformat_minor": 2
}
