{
 "cells": [
  {
   "cell_type": "code",
   "execution_count": 1,
   "id": "6ea229d9",
   "metadata": {},
   "outputs": [],
   "source": [
    "import numpy as np"
   ]
  },
  {
   "cell_type": "code",
   "execution_count": 7,
   "id": "8073a481",
   "metadata": {},
   "outputs": [],
   "source": [
    "var=np.zeros([50, 3, 2])\n"
   ]
  },
  {
   "cell_type": "code",
   "execution_count": 16,
   "id": "9bcee0e5",
   "metadata": {},
   "outputs": [
    {
     "data": {
      "text/plain": [
       "1"
      ]
     },
     "execution_count": 16,
     "metadata": {},
     "output_type": "execute_result"
    }
   ],
   "source": [
    "v_naught=[[1,1], \n",
    "              \n",
    "               [2,2],\n",
    "\n",
    "               [3,3]]\n",
    "\n",
    "v_naught[0][0]"
   ]
  },
  {
   "cell_type": "code",
   "execution_count": 15,
   "id": "def51256",
   "metadata": {},
   "outputs": [],
   "source": [
    "var[49,0,0]=v_naught[0][0]"
   ]
  },
  {
   "cell_type": "code",
   "execution_count": 6,
   "id": "1b3c2172",
   "metadata": {},
   "outputs": [
    {
     "name": "stdout",
     "output_type": "stream",
     "text": [
      "0 10\n",
      "0 20\n",
      "10 15\n",
      "0 10\n"
     ]
    },
    {
     "data": {
      "image/png": "[encoded data removed]",
      "text/plain": [
       "<Figure size 640x480 with 1 Axes>"
      ]
     },
     "metadata": {},
     "output_type": "display_data"
    }
   ],
   "source": [
    "import matplotlib.pyplot as plt\n",
    "\n",
    "# Define two points\n",
    "x = [[0, 10], [0, 20],[10,15],[0,10]]\n",
    "# Define opacities for each line segment\n",
    "\n",
    "\n",
    "# Plot each line segment with varying opacity\n",
    "for l in range(len(x)):\n",
    "    print(x[l][0],x[l][1])\n",
    "    plt.plot(x[l][0],x[l][1])\n",
    "\n",
    "plt.xlabel('X')\n",
    "plt.ylabel('Y')\n",
    "plt.title('Line with Varying Opacity')\n",
    "plt.grid(True)\n",
    "plt.show()\n"
   ]
  },
  {
   "cell_type": "code",
   "execution_count": null,
   "id": "c4581e9f",
   "metadata": {},
   "outputs": [],
   "source": []
  },
  {
   "cell_type": "code",
   "execution_count": null,
   "id": "693d8359",
   "metadata": {},
   "outputs": [],
   "source": []
  },
  {
   "cell_type": "code",
   "execution_count": null,
   "id": "49c78da9",
   "metadata": {},
   "outputs": [],
   "source": []
  },
  {
   "cell_type": "code",
   "execution_count": null,
   "id": "9e441239",
   "metadata": {},
   "outputs": [],
   "source": []
  },
  {
   "cell_type": "code",
   "execution_count": null,
   "id": "fca677cd",
   "metadata": {},
   "outputs": [],
   "source": []
  },
  {
   "cell_type": "code",
   "execution_count": null,
   "id": "4acf6336",
   "metadata": {},
   "outputs": [],
   "source": []
  },
  {
   "cell_type": "code",
   "execution_count": null,
   "id": "3441c866",
   "metadata": {},
   "outputs": [],
   "source": []
  },
  {
   "cell_type": "code",
   "execution_count": 74,
   "id": "d3938db1",
   "metadata": {},
   "outputs": [],
   "source": [
    "import matplotlib.pyplot as plt\n",
    "import numpy as np\n",
    "\n",
    "\n",
    "\n",
    "\n",
    "\n",
    "\n",
    "\n",
    "\n",
    "\n",
    "def new_start(theta, verticies, prog_rate, length):\n",
    "\n",
    "    \"\"\"_summary_\n",
    "\n",
    "    Returns:\n",
    "        theta: initial rotation of the start triangle\n",
    "        verticies: initial verticies of the start triangle\n",
    "        prog_rate: increment in radians\n",
    "        progression: clockwise or counterclockwise\n",
    "        size: distance from centriod to verticies of start triangle \n",
    "\n",
    "        I DID NOT ACCOUNT FOR PROGRESSION DIRECTION\n",
    "    \"\"\"\n",
    "\n",
    "\n",
    "    \n",
    "    #normalize degree\n",
    "\n",
    "    \n",
    "    nslope=np.tan(prog_rate)\n",
    "    \n",
    "    #transform verticies to correct position\n",
    "    \n",
    "    ang=theta-5*np.pi/6\n",
    "    \n",
    "    arr = np.array([[np.cos(ang),np.sin(ang)],[-np.sin(ang),np.cos(ang)]])\n",
    "    \n",
    "    out1=np.dot(np.array(verticies[0]),arr)\n",
    "    \n",
    "    out2=np.dot(np.array(verticies[2]),arr)\n",
    "\n",
    "\n",
    "    \n",
    "    oslope=(out2[1]-out1[1])/(out2[0]-out1[0])\n",
    "\n",
    "    dist = length/(nslope-oslope)\n",
    "\n",
    "    new_r = np.sqrt((dist*oslope+length)**2+dist**2)\n",
    "    \n",
    "    return new_r\n",
    "\n",
    "def triangle(centriod, theta, progression, size, iter_num, prog_rate):\n",
    "    \"\"\" creates an initial equilateral triangle which then borders smaller triangles\n",
    "    base theta=0 is bottom side parallel to horizontal axis\n",
    "\n",
    "    Args:\n",
    "        centriod (list): centriod of the triangle\n",
    "        theta (angle (rad)): orientation of initial triangle. Positive is counterclockwise\n",
    "        progression (string): clockwise or counterclockwise-progression of superimposed triangles\n",
    "        size (float): length of side\n",
    "        iter_num (int): number of triangles to do\n",
    "        prog_rate (angle (rad)): angle increment for each triangle. positive whether progression is clockwise or counterclockwise\n",
    "    \"\"\"\n",
    "\n",
    "    #get triangle verticies:\n",
    "\n",
    "    pi=np.pi\n",
    "    #x=cos(theta-pi/4)*size/sqrt(3)\n",
    "    length=size/np.sqrt(3)\n",
    "    intt = 2*pi/3 \n",
    "\n",
    "    data = np.zeros([iter_num,4,2])\n",
    "    \n",
    "    shift=5*pi/6\n",
    "\n",
    "    v_naught=[[centriod[0]+np.cos(theta-shift)*length,centriod[1]+np.sin(progression*(theta-shift))*length], \n",
    "              \n",
    "               [centriod[0]+np.cos(progression*(theta-shift+intt))*length,centriod[1]+np.sin(progression*(theta-shift+intt))*length],\n",
    "\n",
    "               [centriod[0]+np.cos(progression*(theta-shift+2*intt))*length,centriod[1]+np.sin(progression*(theta-shift+2*intt))*length]]\n",
    "    \n",
    "    data[0,0,0]=v_naught[0][0]\n",
    "    data[0,0,1]=v_naught[0][1]\n",
    "    data[0,1,0]=v_naught[1][0]\n",
    "    data[0,1,1]=v_naught[1][1]\n",
    "    data[0,2,0]=v_naught[2][0]\n",
    "    data[0,2,1]=v_naught[2][1]\n",
    "\n",
    "    data[0,3,0]=data[0,0,0]\n",
    "    data[0,3,1]=data[0,0,1]\n",
    "    \n",
    "\n",
    "    for iter in range(1,iter_num,1):\n",
    "\n",
    "        theta+=prog_rate\n",
    "\n",
    "        length=new_start(theta, data[iter-1,:,:],prog_rate,length)\n",
    "\n",
    "\n",
    "\n",
    "        for i in range(3):\n",
    "            for j in range(2):\n",
    "        \n",
    "                data[iter,i,j]=centriod[j]+np.cos(progression*((pi/2)*j-(theta-shift+intt*i)))*length\n",
    "\n",
    "        data[iter,3,0]=data[iter,0,0]\n",
    "        data[iter,3,1]=data[iter,0,1]\n",
    "        \n",
    "\n",
    "    \n",
    "    return data\n"
   ]
  },
  {
   "cell_type": "code",
   "execution_count": 77,
   "id": "bd2bbe0c",
   "metadata": {},
   "outputs": [
    {
     "name": "stdout",
     "output_type": "stream",
     "text": [
      "-0.5000000000000001 -0.28867513459481287\n",
      "-0.5000000000000001 -0.28867513459481287\n"
     ]
    },
    {
     "name": "stderr",
     "output_type": "stream",
     "text": [
      "/var/folders/sk/d6plh6r10fn92xj_q5g4vd0r0000gn/T/ipykernel_13912/498817231.py:32: UserWarning: FigureCanvasAgg is non-interactive, and thus cannot be shown\n",
      "  plt.show()\n"
     ]
    }
   ],
   "source": [
    "centriod=[0,0]\n",
    "theta=0\n",
    "progression=1\n",
    "size=1\n",
    "prog_rate=0.05\n",
    "iter_num=50000\n",
    "\n",
    "import matplotlib\n",
    "matplotlib.use('AGG')\n",
    "\n",
    "\n",
    "data=triangle(centriod, theta, progression, size, iter_num, prog_rate)\n",
    "\n",
    "print(data[0,0,0],data[0,0,1])\n",
    "print(data[0,3,0],data[0,3,1])\n",
    "\n",
    "fig=plt.figure(figsize=[5.,5.])\n",
    "plt.style.use('dark_background')\n",
    "colormap=plt.get_cmap('hsv')\n",
    "plt.axis('off')\n",
    "\n",
    "for iter in range(iter_num):\n",
    "\n",
    "    x,y=zip(*data[iter,:,:])\n",
    "\n",
    "    plt.plot(x,y, color=colormap(iter/iter_num), linewidth=0.3)\n",
    "\n",
    "\n",
    "\n",
    "plt.savefig('/Users/henryschnieders/Desktop/proj/Designs/Prints/Lines/Triangles/image4.png', dpi=2400)\n",
    "\n",
    "plt.show()"
   ]
  },
  {
   "cell_type": "code",
   "execution_count": null,
   "id": "13f4d86a",
   "metadata": {},
   "outputs": [],
   "source": []
  },
  {
   "cell_type": "code",
   "execution_count": null,
   "id": "203be290",
   "metadata": {},
   "outputs": [],
   "source": []
  },
  {
   "cell_type": "code",
   "execution_count": null,
   "id": "2432c0c0",
   "metadata": {},
   "outputs": [],
   "source": []
  },
  {
   "cell_type": "code",
   "execution_count": 18,
   "id": "8a90d5a4",
   "metadata": {},
   "outputs": [],
   "source": [
    "t=1"
   ]
  },
  {
   "cell_type": "code",
   "execution_count": 19,
   "id": "1eef9dec",
   "metadata": {},
   "outputs": [],
   "source": [
    "t*=-1"
   ]
  },
  {
   "cell_type": "code",
   "execution_count": 20,
   "id": "678e0566",
   "metadata": {},
   "outputs": [
    {
     "data": {
      "text/plain": [
       "-1"
      ]
     },
     "execution_count": 20,
     "metadata": {},
     "output_type": "execute_result"
    }
   ],
   "source": [
    "t"
   ]
  },
  {
   "cell_type": "code",
   "execution_count": null,
   "id": "425a50ef",
   "metadata": {},
   "outputs": [],
   "source": []
  }
 ],
 "metadata": {
  "kernelspec": {
   "display_name": "Python 3 (ipykernel)",
   "language": "python",
   "name": "python3"
  },
  "language_info": {
   "codemirror_mode": {
    "name": "ipython",
    "version": 3
   },
   "file_extension": ".py",
   "mimetype": "text/x-python",
   "name": "python",
   "nbconvert_exporter": "python",
   "pygments_lexer": "ipython3",
   "version": "3.10.7"
  }
 },
 "nbformat": 4,
 "nbformat_minor": 5
}
