{
 "cells": [
  {
   "cell_type": "code",
   "execution_count": 15,
   "id": "f294e07b",
   "metadata": {},
   "outputs": [],
   "source": [
    "import cv2\n",
    "import numpy as np\n",
    "\n",
    "# Load the image in grayscale mode\n",
    "image = cv2.imread('/Users/henryschnieders/desktop/test_subject.png', cv2.IMREAD_GRAYSCALE)\n",
    "\n",
    "# Define the intensity value to be changed\n",
    "intensity_value_max = 160\n",
    "intensity_value_min = 65  # Example intensity value\n",
    "\n",
    "# Create a mask where the intensity is equal to the specified value\n",
    "mask = (intensity_value_min <= image) & (image <= intensity_value_max)\n",
    "\n",
    "# Change the intensity of the pixels that match the mask to white\n",
    "image[mask] = 255\n",
    "\n",
    "# Save the result\n",
    "smoothed_image = cv2.bilateralFilter(image, 3, 75, 75)\n",
    "\n",
    "# Save the result\n",
    "cv2.imwrite('/Users/henryschnieders/desktop/filtered_image_bilateral.png', smoothed_image)\n",
    "\n",
    "# Display the result\n",
    "cv2.imshow('Filtered Image - Bilateral Filter', smoothed_image)\n",
    "cv2.waitKey(5000)\n",
    "cv2.destroyAllWindows()"
   ]
  },
  {
   "cell_type": "code",
   "execution_count": null,
   "id": "931b804f",
   "metadata": {},
   "outputs": [],
   "source": []
  }
 ],
 "metadata": {
  "kernelspec": {
   "display_name": "Python 3 (ipykernel)",
   "language": "python",
   "name": "python3"
  },
  "language_info": {
   "codemirror_mode": {
    "name": "ipython",
    "version": 3
   },
   "file_extension": ".py",
   "mimetype": "text/x-python",
   "name": "python",
   "nbconvert_exporter": "python",
   "pygments_lexer": "ipython3",
   "version": "3.10.7"
  }
 },
 "nbformat": 4,
 "nbformat_minor": 5
}
